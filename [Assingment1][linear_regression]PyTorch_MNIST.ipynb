{
  "nbformat": 4,
  "nbformat_minor": 0,
  "metadata": {
    "colab": {
      "name": "[Assingment1][linear_regression]PyTorch-MNIST.ipynb",
      "provenance": [],
      "collapsed_sections": [],
      "include_colab_link": true
    },
    "kernelspec": {
      "display_name": "Python (comet2)",
      "language": "python",
      "name": "comet2"
    },
    "language_info": {
      "codemirror_mode": {
        "name": "ipython",
        "version": 3
      },
      "file_extension": ".py",
      "mimetype": "text/x-python",
      "name": "python",
      "nbconvert_exporter": "python",
      "pygments_lexer": "ipython3",
      "version": "3.6.7"
    },
    "widgets": {
      "application/vnd.jupyter.widget-state+json": {
        "12e9a503be284fd7944ae35ddd6edf7f": {
          "model_module": "@jupyter-widgets/controls",
          "model_name": "HBoxModel",
          "state": {
            "_view_name": "HBoxView",
            "_dom_classes": [],
            "_model_name": "HBoxModel",
            "_view_module": "@jupyter-widgets/controls",
            "_model_module_version": "1.5.0",
            "_view_count": null,
            "_view_module_version": "1.5.0",
            "box_style": "",
            "layout": "IPY_MODEL_da4737e4d42e43909e8ee47ffce4f4df",
            "_model_module": "@jupyter-widgets/controls",
            "children": [
              "IPY_MODEL_9ddf060c71024f1d94a0499dec2754ea",
              "IPY_MODEL_8d54b97a63394f66b6453c2253ab26fa"
            ]
          }
        },
        "da4737e4d42e43909e8ee47ffce4f4df": {
          "model_module": "@jupyter-widgets/base",
          "model_name": "LayoutModel",
          "state": {
            "_view_name": "LayoutView",
            "grid_template_rows": null,
            "right": null,
            "justify_content": null,
            "_view_module": "@jupyter-widgets/base",
            "overflow": null,
            "_model_module_version": "1.2.0",
            "_view_count": null,
            "flex_flow": null,
            "width": null,
            "min_width": null,
            "border": null,
            "align_items": null,
            "bottom": null,
            "_model_module": "@jupyter-widgets/base",
            "top": null,
            "grid_column": null,
            "overflow_y": null,
            "overflow_x": null,
            "grid_auto_flow": null,
            "grid_area": null,
            "grid_template_columns": null,
            "flex": null,
            "_model_name": "LayoutModel",
            "justify_items": null,
            "grid_row": null,
            "max_height": null,
            "align_content": null,
            "visibility": null,
            "align_self": null,
            "height": null,
            "min_height": null,
            "padding": null,
            "grid_auto_rows": null,
            "grid_gap": null,
            "max_width": null,
            "order": null,
            "_view_module_version": "1.2.0",
            "grid_template_areas": null,
            "object_position": null,
            "object_fit": null,
            "grid_auto_columns": null,
            "margin": null,
            "display": null,
            "left": null
          }
        },
        "9ddf060c71024f1d94a0499dec2754ea": {
          "model_module": "@jupyter-widgets/controls",
          "model_name": "FloatProgressModel",
          "state": {
            "_view_name": "ProgressView",
            "style": "IPY_MODEL_04e778b133c849039c9058bad3a630b2",
            "_dom_classes": [],
            "description": "",
            "_model_name": "FloatProgressModel",
            "bar_style": "success",
            "max": 1,
            "_view_module": "@jupyter-widgets/controls",
            "_model_module_version": "1.5.0",
            "value": 1,
            "_view_count": null,
            "_view_module_version": "1.5.0",
            "orientation": "horizontal",
            "min": 0,
            "description_tooltip": null,
            "_model_module": "@jupyter-widgets/controls",
            "layout": "IPY_MODEL_40ea925fce0f4703b7f6a65c8151281b"
          }
        },
        "8d54b97a63394f66b6453c2253ab26fa": {
          "model_module": "@jupyter-widgets/controls",
          "model_name": "HTMLModel",
          "state": {
            "_view_name": "HTMLView",
            "style": "IPY_MODEL_f3c85a8935cc4da39de8f929106819d0",
            "_dom_classes": [],
            "description": "",
            "_model_name": "HTMLModel",
            "placeholder": "​",
            "_view_module": "@jupyter-widgets/controls",
            "_model_module_version": "1.5.0",
            "value": " 9920512/? [00:03&lt;00:00, 2737343.26it/s]",
            "_view_count": null,
            "_view_module_version": "1.5.0",
            "description_tooltip": null,
            "_model_module": "@jupyter-widgets/controls",
            "layout": "IPY_MODEL_30d33335db2f4c0ab70a94f5251c5e73"
          }
        },
        "04e778b133c849039c9058bad3a630b2": {
          "model_module": "@jupyter-widgets/controls",
          "model_name": "ProgressStyleModel",
          "state": {
            "_view_name": "StyleView",
            "_model_name": "ProgressStyleModel",
            "description_width": "initial",
            "_view_module": "@jupyter-widgets/base",
            "_model_module_version": "1.5.0",
            "_view_count": null,
            "_view_module_version": "1.2.0",
            "bar_color": null,
            "_model_module": "@jupyter-widgets/controls"
          }
        },
        "40ea925fce0f4703b7f6a65c8151281b": {
          "model_module": "@jupyter-widgets/base",
          "model_name": "LayoutModel",
          "state": {
            "_view_name": "LayoutView",
            "grid_template_rows": null,
            "right": null,
            "justify_content": null,
            "_view_module": "@jupyter-widgets/base",
            "overflow": null,
            "_model_module_version": "1.2.0",
            "_view_count": null,
            "flex_flow": null,
            "width": null,
            "min_width": null,
            "border": null,
            "align_items": null,
            "bottom": null,
            "_model_module": "@jupyter-widgets/base",
            "top": null,
            "grid_column": null,
            "overflow_y": null,
            "overflow_x": null,
            "grid_auto_flow": null,
            "grid_area": null,
            "grid_template_columns": null,
            "flex": null,
            "_model_name": "LayoutModel",
            "justify_items": null,
            "grid_row": null,
            "max_height": null,
            "align_content": null,
            "visibility": null,
            "align_self": null,
            "height": null,
            "min_height": null,
            "padding": null,
            "grid_auto_rows": null,
            "grid_gap": null,
            "max_width": null,
            "order": null,
            "_view_module_version": "1.2.0",
            "grid_template_areas": null,
            "object_position": null,
            "object_fit": null,
            "grid_auto_columns": null,
            "margin": null,
            "display": null,
            "left": null
          }
        },
        "f3c85a8935cc4da39de8f929106819d0": {
          "model_module": "@jupyter-widgets/controls",
          "model_name": "DescriptionStyleModel",
          "state": {
            "_view_name": "StyleView",
            "_model_name": "DescriptionStyleModel",
            "description_width": "",
            "_view_module": "@jupyter-widgets/base",
            "_model_module_version": "1.5.0",
            "_view_count": null,
            "_view_module_version": "1.2.0",
            "_model_module": "@jupyter-widgets/controls"
          }
        },
        "30d33335db2f4c0ab70a94f5251c5e73": {
          "model_module": "@jupyter-widgets/base",
          "model_name": "LayoutModel",
          "state": {
            "_view_name": "LayoutView",
            "grid_template_rows": null,
            "right": null,
            "justify_content": null,
            "_view_module": "@jupyter-widgets/base",
            "overflow": null,
            "_model_module_version": "1.2.0",
            "_view_count": null,
            "flex_flow": null,
            "width": null,
            "min_width": null,
            "border": null,
            "align_items": null,
            "bottom": null,
            "_model_module": "@jupyter-widgets/base",
            "top": null,
            "grid_column": null,
            "overflow_y": null,
            "overflow_x": null,
            "grid_auto_flow": null,
            "grid_area": null,
            "grid_template_columns": null,
            "flex": null,
            "_model_name": "LayoutModel",
            "justify_items": null,
            "grid_row": null,
            "max_height": null,
            "align_content": null,
            "visibility": null,
            "align_self": null,
            "height": null,
            "min_height": null,
            "padding": null,
            "grid_auto_rows": null,
            "grid_gap": null,
            "max_width": null,
            "order": null,
            "_view_module_version": "1.2.0",
            "grid_template_areas": null,
            "object_position": null,
            "object_fit": null,
            "grid_auto_columns": null,
            "margin": null,
            "display": null,
            "left": null
          }
        },
        "f72456dd76bf46ea8700cdfc1b904ff8": {
          "model_module": "@jupyter-widgets/controls",
          "model_name": "HBoxModel",
          "state": {
            "_view_name": "HBoxView",
            "_dom_classes": [],
            "_model_name": "HBoxModel",
            "_view_module": "@jupyter-widgets/controls",
            "_model_module_version": "1.5.0",
            "_view_count": null,
            "_view_module_version": "1.5.0",
            "box_style": "",
            "layout": "IPY_MODEL_71493e42d3954d5f838ccdd5172245d3",
            "_model_module": "@jupyter-widgets/controls",
            "children": [
              "IPY_MODEL_cccbbe2a31ae40339eac237c0c2e3efd",
              "IPY_MODEL_8d8b01c2a83e4be6a04821b530b44c7a"
            ]
          }
        },
        "71493e42d3954d5f838ccdd5172245d3": {
          "model_module": "@jupyter-widgets/base",
          "model_name": "LayoutModel",
          "state": {
            "_view_name": "LayoutView",
            "grid_template_rows": null,
            "right": null,
            "justify_content": null,
            "_view_module": "@jupyter-widgets/base",
            "overflow": null,
            "_model_module_version": "1.2.0",
            "_view_count": null,
            "flex_flow": null,
            "width": null,
            "min_width": null,
            "border": null,
            "align_items": null,
            "bottom": null,
            "_model_module": "@jupyter-widgets/base",
            "top": null,
            "grid_column": null,
            "overflow_y": null,
            "overflow_x": null,
            "grid_auto_flow": null,
            "grid_area": null,
            "grid_template_columns": null,
            "flex": null,
            "_model_name": "LayoutModel",
            "justify_items": null,
            "grid_row": null,
            "max_height": null,
            "align_content": null,
            "visibility": null,
            "align_self": null,
            "height": null,
            "min_height": null,
            "padding": null,
            "grid_auto_rows": null,
            "grid_gap": null,
            "max_width": null,
            "order": null,
            "_view_module_version": "1.2.0",
            "grid_template_areas": null,
            "object_position": null,
            "object_fit": null,
            "grid_auto_columns": null,
            "margin": null,
            "display": null,
            "left": null
          }
        },
        "cccbbe2a31ae40339eac237c0c2e3efd": {
          "model_module": "@jupyter-widgets/controls",
          "model_name": "FloatProgressModel",
          "state": {
            "_view_name": "ProgressView",
            "style": "IPY_MODEL_981c15b620904d16b9aa61c13fcd43c1",
            "_dom_classes": [],
            "description": "",
            "_model_name": "FloatProgressModel",
            "bar_style": "success",
            "max": 1,
            "_view_module": "@jupyter-widgets/controls",
            "_model_module_version": "1.5.0",
            "value": 1,
            "_view_count": null,
            "_view_module_version": "1.5.0",
            "orientation": "horizontal",
            "min": 0,
            "description_tooltip": null,
            "_model_module": "@jupyter-widgets/controls",
            "layout": "IPY_MODEL_6300de044a9549d2b2a17459697deb0d"
          }
        },
        "8d8b01c2a83e4be6a04821b530b44c7a": {
          "model_module": "@jupyter-widgets/controls",
          "model_name": "HTMLModel",
          "state": {
            "_view_name": "HTMLView",
            "style": "IPY_MODEL_3f58a099859747b2aed300cf2c5a4d56",
            "_dom_classes": [],
            "description": "",
            "_model_name": "HTMLModel",
            "placeholder": "​",
            "_view_module": "@jupyter-widgets/controls",
            "_model_module_version": "1.5.0",
            "value": " 32768/? [00:00&lt;00:00, 68595.08it/s]",
            "_view_count": null,
            "_view_module_version": "1.5.0",
            "description_tooltip": null,
            "_model_module": "@jupyter-widgets/controls",
            "layout": "IPY_MODEL_1db7c87ff04a41e99918759e36b757c9"
          }
        },
        "981c15b620904d16b9aa61c13fcd43c1": {
          "model_module": "@jupyter-widgets/controls",
          "model_name": "ProgressStyleModel",
          "state": {
            "_view_name": "StyleView",
            "_model_name": "ProgressStyleModel",
            "description_width": "initial",
            "_view_module": "@jupyter-widgets/base",
            "_model_module_version": "1.5.0",
            "_view_count": null,
            "_view_module_version": "1.2.0",
            "bar_color": null,
            "_model_module": "@jupyter-widgets/controls"
          }
        },
        "6300de044a9549d2b2a17459697deb0d": {
          "model_module": "@jupyter-widgets/base",
          "model_name": "LayoutModel",
          "state": {
            "_view_name": "LayoutView",
            "grid_template_rows": null,
            "right": null,
            "justify_content": null,
            "_view_module": "@jupyter-widgets/base",
            "overflow": null,
            "_model_module_version": "1.2.0",
            "_view_count": null,
            "flex_flow": null,
            "width": null,
            "min_width": null,
            "border": null,
            "align_items": null,
            "bottom": null,
            "_model_module": "@jupyter-widgets/base",
            "top": null,
            "grid_column": null,
            "overflow_y": null,
            "overflow_x": null,
            "grid_auto_flow": null,
            "grid_area": null,
            "grid_template_columns": null,
            "flex": null,
            "_model_name": "LayoutModel",
            "justify_items": null,
            "grid_row": null,
            "max_height": null,
            "align_content": null,
            "visibility": null,
            "align_self": null,
            "height": null,
            "min_height": null,
            "padding": null,
            "grid_auto_rows": null,
            "grid_gap": null,
            "max_width": null,
            "order": null,
            "_view_module_version": "1.2.0",
            "grid_template_areas": null,
            "object_position": null,
            "object_fit": null,
            "grid_auto_columns": null,
            "margin": null,
            "display": null,
            "left": null
          }
        },
        "3f58a099859747b2aed300cf2c5a4d56": {
          "model_module": "@jupyter-widgets/controls",
          "model_name": "DescriptionStyleModel",
          "state": {
            "_view_name": "StyleView",
            "_model_name": "DescriptionStyleModel",
            "description_width": "",
            "_view_module": "@jupyter-widgets/base",
            "_model_module_version": "1.5.0",
            "_view_count": null,
            "_view_module_version": "1.2.0",
            "_model_module": "@jupyter-widgets/controls"
          }
        },
        "1db7c87ff04a41e99918759e36b757c9": {
          "model_module": "@jupyter-widgets/base",
          "model_name": "LayoutModel",
          "state": {
            "_view_name": "LayoutView",
            "grid_template_rows": null,
            "right": null,
            "justify_content": null,
            "_view_module": "@jupyter-widgets/base",
            "overflow": null,
            "_model_module_version": "1.2.0",
            "_view_count": null,
            "flex_flow": null,
            "width": null,
            "min_width": null,
            "border": null,
            "align_items": null,
            "bottom": null,
            "_model_module": "@jupyter-widgets/base",
            "top": null,
            "grid_column": null,
            "overflow_y": null,
            "overflow_x": null,
            "grid_auto_flow": null,
            "grid_area": null,
            "grid_template_columns": null,
            "flex": null,
            "_model_name": "LayoutModel",
            "justify_items": null,
            "grid_row": null,
            "max_height": null,
            "align_content": null,
            "visibility": null,
            "align_self": null,
            "height": null,
            "min_height": null,
            "padding": null,
            "grid_auto_rows": null,
            "grid_gap": null,
            "max_width": null,
            "order": null,
            "_view_module_version": "1.2.0",
            "grid_template_areas": null,
            "object_position": null,
            "object_fit": null,
            "grid_auto_columns": null,
            "margin": null,
            "display": null,
            "left": null
          }
        },
        "82f271f62a4c4a6f97a5aca3a64f1d90": {
          "model_module": "@jupyter-widgets/controls",
          "model_name": "HBoxModel",
          "state": {
            "_view_name": "HBoxView",
            "_dom_classes": [],
            "_model_name": "HBoxModel",
            "_view_module": "@jupyter-widgets/controls",
            "_model_module_version": "1.5.0",
            "_view_count": null,
            "_view_module_version": "1.5.0",
            "box_style": "",
            "layout": "IPY_MODEL_819997f537a3432c9c4df15436f90f96",
            "_model_module": "@jupyter-widgets/controls",
            "children": [
              "IPY_MODEL_10b9406afe8e4ada94c744f125f9a50e",
              "IPY_MODEL_f1e2137d9e1c41f6a23182493261586a"
            ]
          }
        },
        "819997f537a3432c9c4df15436f90f96": {
          "model_module": "@jupyter-widgets/base",
          "model_name": "LayoutModel",
          "state": {
            "_view_name": "LayoutView",
            "grid_template_rows": null,
            "right": null,
            "justify_content": null,
            "_view_module": "@jupyter-widgets/base",
            "overflow": null,
            "_model_module_version": "1.2.0",
            "_view_count": null,
            "flex_flow": null,
            "width": null,
            "min_width": null,
            "border": null,
            "align_items": null,
            "bottom": null,
            "_model_module": "@jupyter-widgets/base",
            "top": null,
            "grid_column": null,
            "overflow_y": null,
            "overflow_x": null,
            "grid_auto_flow": null,
            "grid_area": null,
            "grid_template_columns": null,
            "flex": null,
            "_model_name": "LayoutModel",
            "justify_items": null,
            "grid_row": null,
            "max_height": null,
            "align_content": null,
            "visibility": null,
            "align_self": null,
            "height": null,
            "min_height": null,
            "padding": null,
            "grid_auto_rows": null,
            "grid_gap": null,
            "max_width": null,
            "order": null,
            "_view_module_version": "1.2.0",
            "grid_template_areas": null,
            "object_position": null,
            "object_fit": null,
            "grid_auto_columns": null,
            "margin": null,
            "display": null,
            "left": null
          }
        },
        "10b9406afe8e4ada94c744f125f9a50e": {
          "model_module": "@jupyter-widgets/controls",
          "model_name": "FloatProgressModel",
          "state": {
            "_view_name": "ProgressView",
            "style": "IPY_MODEL_8032b488995c45c3953c1ce7f2aec787",
            "_dom_classes": [],
            "description": "",
            "_model_name": "FloatProgressModel",
            "bar_style": "success",
            "max": 1,
            "_view_module": "@jupyter-widgets/controls",
            "_model_module_version": "1.5.0",
            "value": 1,
            "_view_count": null,
            "_view_module_version": "1.5.0",
            "orientation": "horizontal",
            "min": 0,
            "description_tooltip": null,
            "_model_module": "@jupyter-widgets/controls",
            "layout": "IPY_MODEL_3be66d4f9976449fb73a627dcde25d41"
          }
        },
        "f1e2137d9e1c41f6a23182493261586a": {
          "model_module": "@jupyter-widgets/controls",
          "model_name": "HTMLModel",
          "state": {
            "_view_name": "HTMLView",
            "style": "IPY_MODEL_1b748f6c4c3446a2972ade2476dde0ef",
            "_dom_classes": [],
            "description": "",
            "_model_name": "HTMLModel",
            "placeholder": "​",
            "_view_module": "@jupyter-widgets/controls",
            "_model_module_version": "1.5.0",
            "value": " 1654784/? [00:00&lt;00:00, 5102306.22it/s]",
            "_view_count": null,
            "_view_module_version": "1.5.0",
            "description_tooltip": null,
            "_model_module": "@jupyter-widgets/controls",
            "layout": "IPY_MODEL_5df99ff87ef24e5ab6dcad9d2fcaf3b4"
          }
        },
        "8032b488995c45c3953c1ce7f2aec787": {
          "model_module": "@jupyter-widgets/controls",
          "model_name": "ProgressStyleModel",
          "state": {
            "_view_name": "StyleView",
            "_model_name": "ProgressStyleModel",
            "description_width": "initial",
            "_view_module": "@jupyter-widgets/base",
            "_model_module_version": "1.5.0",
            "_view_count": null,
            "_view_module_version": "1.2.0",
            "bar_color": null,
            "_model_module": "@jupyter-widgets/controls"
          }
        },
        "3be66d4f9976449fb73a627dcde25d41": {
          "model_module": "@jupyter-widgets/base",
          "model_name": "LayoutModel",
          "state": {
            "_view_name": "LayoutView",
            "grid_template_rows": null,
            "right": null,
            "justify_content": null,
            "_view_module": "@jupyter-widgets/base",
            "overflow": null,
            "_model_module_version": "1.2.0",
            "_view_count": null,
            "flex_flow": null,
            "width": null,
            "min_width": null,
            "border": null,
            "align_items": null,
            "bottom": null,
            "_model_module": "@jupyter-widgets/base",
            "top": null,
            "grid_column": null,
            "overflow_y": null,
            "overflow_x": null,
            "grid_auto_flow": null,
            "grid_area": null,
            "grid_template_columns": null,
            "flex": null,
            "_model_name": "LayoutModel",
            "justify_items": null,
            "grid_row": null,
            "max_height": null,
            "align_content": null,
            "visibility": null,
            "align_self": null,
            "height": null,
            "min_height": null,
            "padding": null,
            "grid_auto_rows": null,
            "grid_gap": null,
            "max_width": null,
            "order": null,
            "_view_module_version": "1.2.0",
            "grid_template_areas": null,
            "object_position": null,
            "object_fit": null,
            "grid_auto_columns": null,
            "margin": null,
            "display": null,
            "left": null
          }
        },
        "1b748f6c4c3446a2972ade2476dde0ef": {
          "model_module": "@jupyter-widgets/controls",
          "model_name": "DescriptionStyleModel",
          "state": {
            "_view_name": "StyleView",
            "_model_name": "DescriptionStyleModel",
            "description_width": "",
            "_view_module": "@jupyter-widgets/base",
            "_model_module_version": "1.5.0",
            "_view_count": null,
            "_view_module_version": "1.2.0",
            "_model_module": "@jupyter-widgets/controls"
          }
        },
        "5df99ff87ef24e5ab6dcad9d2fcaf3b4": {
          "model_module": "@jupyter-widgets/base",
          "model_name": "LayoutModel",
          "state": {
            "_view_name": "LayoutView",
            "grid_template_rows": null,
            "right": null,
            "justify_content": null,
            "_view_module": "@jupyter-widgets/base",
            "overflow": null,
            "_model_module_version": "1.2.0",
            "_view_count": null,
            "flex_flow": null,
            "width": null,
            "min_width": null,
            "border": null,
            "align_items": null,
            "bottom": null,
            "_model_module": "@jupyter-widgets/base",
            "top": null,
            "grid_column": null,
            "overflow_y": null,
            "overflow_x": null,
            "grid_auto_flow": null,
            "grid_area": null,
            "grid_template_columns": null,
            "flex": null,
            "_model_name": "LayoutModel",
            "justify_items": null,
            "grid_row": null,
            "max_height": null,
            "align_content": null,
            "visibility": null,
            "align_self": null,
            "height": null,
            "min_height": null,
            "padding": null,
            "grid_auto_rows": null,
            "grid_gap": null,
            "max_width": null,
            "order": null,
            "_view_module_version": "1.2.0",
            "grid_template_areas": null,
            "object_position": null,
            "object_fit": null,
            "grid_auto_columns": null,
            "margin": null,
            "display": null,
            "left": null
          }
        },
        "08d0de541bd441c3a17f2485119455f6": {
          "model_module": "@jupyter-widgets/controls",
          "model_name": "HBoxModel",
          "state": {
            "_view_name": "HBoxView",
            "_dom_classes": [],
            "_model_name": "HBoxModel",
            "_view_module": "@jupyter-widgets/controls",
            "_model_module_version": "1.5.0",
            "_view_count": null,
            "_view_module_version": "1.5.0",
            "box_style": "",
            "layout": "IPY_MODEL_47239891232c495ca27329444337ce80",
            "_model_module": "@jupyter-widgets/controls",
            "children": [
              "IPY_MODEL_b25ff2f9656f49c4995e81433fe1222b",
              "IPY_MODEL_ef2360902e444bedb684dededb480e47"
            ]
          }
        },
        "47239891232c495ca27329444337ce80": {
          "model_module": "@jupyter-widgets/base",
          "model_name": "LayoutModel",
          "state": {
            "_view_name": "LayoutView",
            "grid_template_rows": null,
            "right": null,
            "justify_content": null,
            "_view_module": "@jupyter-widgets/base",
            "overflow": null,
            "_model_module_version": "1.2.0",
            "_view_count": null,
            "flex_flow": null,
            "width": null,
            "min_width": null,
            "border": null,
            "align_items": null,
            "bottom": null,
            "_model_module": "@jupyter-widgets/base",
            "top": null,
            "grid_column": null,
            "overflow_y": null,
            "overflow_x": null,
            "grid_auto_flow": null,
            "grid_area": null,
            "grid_template_columns": null,
            "flex": null,
            "_model_name": "LayoutModel",
            "justify_items": null,
            "grid_row": null,
            "max_height": null,
            "align_content": null,
            "visibility": null,
            "align_self": null,
            "height": null,
            "min_height": null,
            "padding": null,
            "grid_auto_rows": null,
            "grid_gap": null,
            "max_width": null,
            "order": null,
            "_view_module_version": "1.2.0",
            "grid_template_areas": null,
            "object_position": null,
            "object_fit": null,
            "grid_auto_columns": null,
            "margin": null,
            "display": null,
            "left": null
          }
        },
        "b25ff2f9656f49c4995e81433fe1222b": {
          "model_module": "@jupyter-widgets/controls",
          "model_name": "FloatProgressModel",
          "state": {
            "_view_name": "ProgressView",
            "style": "IPY_MODEL_d30d137458084fa7bf458f7524a74327",
            "_dom_classes": [],
            "description": "",
            "_model_name": "FloatProgressModel",
            "bar_style": "success",
            "max": 1,
            "_view_module": "@jupyter-widgets/controls",
            "_model_module_version": "1.5.0",
            "value": 1,
            "_view_count": null,
            "_view_module_version": "1.5.0",
            "orientation": "horizontal",
            "min": 0,
            "description_tooltip": null,
            "_model_module": "@jupyter-widgets/controls",
            "layout": "IPY_MODEL_77ffdab2612049e9936844ecb1780ad8"
          }
        },
        "ef2360902e444bedb684dededb480e47": {
          "model_module": "@jupyter-widgets/controls",
          "model_name": "HTMLModel",
          "state": {
            "_view_name": "HTMLView",
            "style": "IPY_MODEL_fdfca50da59748aaa3a3ec9f7a931bfe",
            "_dom_classes": [],
            "description": "",
            "_model_name": "HTMLModel",
            "placeholder": "​",
            "_view_module": "@jupyter-widgets/controls",
            "_model_module_version": "1.5.0",
            "value": " 8192/? [00:00&lt;00:00, 17340.88it/s]",
            "_view_count": null,
            "_view_module_version": "1.5.0",
            "description_tooltip": null,
            "_model_module": "@jupyter-widgets/controls",
            "layout": "IPY_MODEL_764212033591457ea7fd91356d6e236b"
          }
        },
        "d30d137458084fa7bf458f7524a74327": {
          "model_module": "@jupyter-widgets/controls",
          "model_name": "ProgressStyleModel",
          "state": {
            "_view_name": "StyleView",
            "_model_name": "ProgressStyleModel",
            "description_width": "initial",
            "_view_module": "@jupyter-widgets/base",
            "_model_module_version": "1.5.0",
            "_view_count": null,
            "_view_module_version": "1.2.0",
            "bar_color": null,
            "_model_module": "@jupyter-widgets/controls"
          }
        },
        "77ffdab2612049e9936844ecb1780ad8": {
          "model_module": "@jupyter-widgets/base",
          "model_name": "LayoutModel",
          "state": {
            "_view_name": "LayoutView",
            "grid_template_rows": null,
            "right": null,
            "justify_content": null,
            "_view_module": "@jupyter-widgets/base",
            "overflow": null,
            "_model_module_version": "1.2.0",
            "_view_count": null,
            "flex_flow": null,
            "width": null,
            "min_width": null,
            "border": null,
            "align_items": null,
            "bottom": null,
            "_model_module": "@jupyter-widgets/base",
            "top": null,
            "grid_column": null,
            "overflow_y": null,
            "overflow_x": null,
            "grid_auto_flow": null,
            "grid_area": null,
            "grid_template_columns": null,
            "flex": null,
            "_model_name": "LayoutModel",
            "justify_items": null,
            "grid_row": null,
            "max_height": null,
            "align_content": null,
            "visibility": null,
            "align_self": null,
            "height": null,
            "min_height": null,
            "padding": null,
            "grid_auto_rows": null,
            "grid_gap": null,
            "max_width": null,
            "order": null,
            "_view_module_version": "1.2.0",
            "grid_template_areas": null,
            "object_position": null,
            "object_fit": null,
            "grid_auto_columns": null,
            "margin": null,
            "display": null,
            "left": null
          }
        },
        "fdfca50da59748aaa3a3ec9f7a931bfe": {
          "model_module": "@jupyter-widgets/controls",
          "model_name": "DescriptionStyleModel",
          "state": {
            "_view_name": "StyleView",
            "_model_name": "DescriptionStyleModel",
            "description_width": "",
            "_view_module": "@jupyter-widgets/base",
            "_model_module_version": "1.5.0",
            "_view_count": null,
            "_view_module_version": "1.2.0",
            "_model_module": "@jupyter-widgets/controls"
          }
        },
        "764212033591457ea7fd91356d6e236b": {
          "model_module": "@jupyter-widgets/base",
          "model_name": "LayoutModel",
          "state": {
            "_view_name": "LayoutView",
            "grid_template_rows": null,
            "right": null,
            "justify_content": null,
            "_view_module": "@jupyter-widgets/base",
            "overflow": null,
            "_model_module_version": "1.2.0",
            "_view_count": null,
            "flex_flow": null,
            "width": null,
            "min_width": null,
            "border": null,
            "align_items": null,
            "bottom": null,
            "_model_module": "@jupyter-widgets/base",
            "top": null,
            "grid_column": null,
            "overflow_y": null,
            "overflow_x": null,
            "grid_auto_flow": null,
            "grid_area": null,
            "grid_template_columns": null,
            "flex": null,
            "_model_name": "LayoutModel",
            "justify_items": null,
            "grid_row": null,
            "max_height": null,
            "align_content": null,
            "visibility": null,
            "align_self": null,
            "height": null,
            "min_height": null,
            "padding": null,
            "grid_auto_rows": null,
            "grid_gap": null,
            "max_width": null,
            "order": null,
            "_view_module_version": "1.2.0",
            "grid_template_areas": null,
            "object_position": null,
            "object_fit": null,
            "grid_auto_columns": null,
            "margin": null,
            "display": null,
            "left": null
          }
        }
      }
    }
  },
  "cells": [
    {
      "cell_type": "markdown",
      "metadata": {
        "id": "view-in-github",
        "colab_type": "text"
      },
      "source": [
        "<a href=\"https://colab.research.google.com/github/Steve-YJ/Exp-Standalone-DeepLearning/blob/master/%5BAssingment1%5D%5Blinear_regression%5DPyTorch_MNIST.ipynb\" target=\"_parent\"><img src=\"https://colab.research.google.com/assets/colab-badge.svg\" alt=\"Open In Colab\"/></a>"
      ]
    },
    {
      "cell_type": "markdown",
      "metadata": {
        "id": "sd1cb8pUDtEK",
        "colab_type": "text"
      },
      "source": [
        "# Assignment1. MNIST Digit Recogntion\n",
        "\n",
        "이 과제에서는 손으로 쓴 숫자들의 이미지를 input으로 받아서 0~9 중 어느 숫자에 해당하는지를 분류하는 10-way Classification Problem을 풀어 볼 겁니다. 지금까지 실습은 가상의 인공 데이터셋이었다면 이번에는 real-world 데이터셋이니 좀 더 설레지 않나요?\n",
        "\n",
        "`pytorch` 내에 이미 구현되어 있는 MNIST Dataset을 사용하여 데이터가 공급됩니다.  \n",
        "대신 여러분들은 Model을 짜고 올바르게 Loss Function을 활용하는 코드를 작성하는데 집중해주시길 바랍니다.  \n",
        "\n",
        "1. 현재 Linear Model만 구현이 되어 있습니다. MLP Model을 2.Model Architecture 부분에 구현해주세요.\n",
        "2. MLP Model을 생성할 때 hidden unit 수와 hidden layer 수를 인풋으로 넣어주면 해당 값으로 MLP가 자동으로 생성되게 하는 코드를 구현해보세요.  \n",
        "3. 다양한 hidden_unit과 hidden_layer 그리고 learning rate를 바꿔가면서 정확도의 변화를 알려주세요(이 때 모델이 고정되었다면 learning rate부터 바꿔가면서 튜닝해보세요. 차트나 표를 자유롭게 활용하여 결과를 보여주세요.  \n",
        "4. 실험했던 결과 중 Test Set에 대한 Accuracy가 가장 높았던 실험 조건과 그때의 Accuracy를 알려주세요!  \n",
        "5. 양식은 따로 없으며 이 주피터 노트북의 뒷부분에 추가로 1~4의 내용을 덧붙여서 정리하면 되겠습니다!\n",
        "\n",
        "**과제 시 도저히 해결할 수 없는 애러나 질문 사항은 제 깃허브의 [Issue](https://github.com/heartcored98/Standalone-DeepLearning/issues)란에 새 이슈를 남겨주세요**\n",
        "\n",
        "**Due** : 2019-01-23 22:00  \n",
        "**How to Submit** : 여러분의 깃허브 저장소를 만드신 후 작업한 .ipynb 파일을 올려주신 후 파일의 url 주소를 강의 피드백 설문 중 과제 제출 섹션에 남겨주세요! 그럼 저희가 파일을 하나하나 다운받고 열람할 필요 없이 온라인 상에서 바로 확인하기에 용이합니다 :)\n",
        "\n",
        "\n",
        "**이 문서를 구글 Colab에서 쉽게 실행해보는법**  \n",
        "1. [제가 미리 만들어놓은 이 링크](https://colab.research.google.com/github/heartcored98/Standalone-DeepLearning/blob/master/Lec2/Assignment1_pytorch_MNIST_MLP.ipynb)를 눌러 본 .ipynb 파일을 구글 Colab에서 바로 열 수 있습니다. 이때 구글에 로그인을 해야 합니다.\n",
        "2. 아무 셀이나 선택한 후 `Ctrl+Enter`를 눌러 실행해보면 **[경고: 이 노트는 Google에서 작성하지 않았습니다]**라고 뜨는데 `실행 전에 모든 런타임 재설정`을 선택한 채로 `무시하고 계속하기`를 눌러줍니다.  \n",
        "3. **[모든 런타임 재설정]** 이 뜰 텐데 `예`를 눌러줍니다.  \n",
        "4. 잠시 구글 서버의 배치가 되면서 우상단에 `연결중` -> `초기화중` -> `연결됨`이 뜨면서 실행이 가능한 상태가 됩니다.  \n",
        "\n",
        "**구글 Colab에서 실습후 저장하는법**  \n",
        "**쉽게 실행보는법**을 따라오셨다면 Colab에서 임시 노트북으로 열리기 때문에 `파일`->`드라이브로 저장`을 눌러서 여러분의 구글 드라이브에 저장하거나 `파일` -> `.ipynb 다운로드`를 눌러서 다운로드 해줍시다.   \n",
        "\n",
        "*Written by. 조재영(whwodud9@kaist.ac.kr) 2019.01.21 *"
      ]
    },
    {
      "cell_type": "markdown",
      "metadata": {
        "id": "sj7uYYFiEx3y",
        "colab_type": "text"
      },
      "source": [
        "* to-do list\n",
        "    * <code>pytorch</code>내에 구현되어 있는 MNIST 데이터셋을 활용한 분류문제\n",
        "    * Model을 생성하고 올바르게 Loss Function을 활용하는 코드를 작성하는데 집중해보자...!\n",
        "    * MLPModel 생성시 hideen unit수와 hidden layer수를 인풋으로 넣어주면 해당 값으로 MLP가 자동으로 생성되게 하는 코드를 구현해보자\n",
        "    * 다양한 hidden_unit과 hidden layer 그리고 learning rate를 바꿔가면서 정확한 변화를 계산해보자\n",
        "    * 가장 높은 Accuracy를 구해볼 것\n",
        "    * 1st Trial: From. 20.09.03.Thur.am8:00 ~"
      ]
    },
    {
      "cell_type": "markdown",
      "metadata": {
        "id": "eXAlC8A8DtEL",
        "colab_type": "text"
      },
      "source": [
        "### Install Pytorch 1.0 (For Google Colab)"
      ]
    },
    {
      "cell_type": "code",
      "metadata": {
        "id": "BO24-O60DtEM",
        "colab_type": "code",
        "colab": {
          "base_uri": "https://localhost:8080/",
          "height": 53
        },
        "outputId": "263d7287-c1fe-4feb-fefd-39bfde90c561"
      },
      "source": [
        "\"\"\"#구글 Colab에서 실행할 때는 이 주석을 해제하시고 실행해서 pytorch 1.0을 깔아주세요!\n",
        "!pip install -q torch==1.0.0 torchvision\n",
        "import torch\n",
        "print(torch.__version__)\n",
        "\"\"\""
      ],
      "execution_count": 1,
      "outputs": [
        {
          "output_type": "execute_result",
          "data": {
            "application/vnd.google.colaboratory.intrinsic+json": {
              "type": "string"
            },
            "text/plain": [
              "'#구글 Colab에서 실행할 때는 이 주석을 해제하시고 실행해서 pytorch 1.0을 깔아주세요!\\n!pip install -q torch==1.0.0 torchvision\\nimport torch\\nprint(torch.__version__)\\n'"
            ]
          },
          "metadata": {
            "tags": []
          },
          "execution_count": 1
        }
      ]
    },
    {
      "cell_type": "markdown",
      "metadata": {
        "colab_type": "text",
        "id": "23sQEXhSfY4I"
      },
      "source": [
        "### 1. Data Preparation"
      ]
    },
    {
      "cell_type": "markdown",
      "metadata": {
        "id": "avOwGhU8DtEQ",
        "colab_type": "text"
      },
      "source": [
        "**Data Set**  \n",
        "$$X_{train} \\in \\mathcal{R}^{50000 \\times 784}, Y_{train} \\in \\mathcal{Z}^{50000}$$  \n",
        "$$X_{val} \\in \\mathcal{R}^{10000 \\times 784}, Y_{val} \\in \\mathcal{Z}^{10000}$$  \n",
        "$$X_{test} \\in \\mathcal{R}^{10000 \\times 784}, Y_{test} \\in \\mathcal{Z}^{10000}$$"
      ]
    },
    {
      "cell_type": "markdown",
      "metadata": {
        "id": "j5e2aN6uFx7T",
        "colab_type": "text"
      },
      "source": [
        "* train: train_X: (50000, 784), train_y: (50000)\n",
        "* val:   val_x: (10000, 784), val_y: (10000)\n",
        "* test:  test_x: (10000, 784), test_y: (10000)"
      ]
    },
    {
      "cell_type": "code",
      "metadata": {
        "id": "zqc7PLRrDtER",
        "colab_type": "code",
        "colab": {
          "base_uri": "https://localhost:8080/",
          "height": 441,
          "referenced_widgets": [
            "12e9a503be284fd7944ae35ddd6edf7f",
            "da4737e4d42e43909e8ee47ffce4f4df",
            "9ddf060c71024f1d94a0499dec2754ea",
            "8d54b97a63394f66b6453c2253ab26fa",
            "04e778b133c849039c9058bad3a630b2",
            "40ea925fce0f4703b7f6a65c8151281b",
            "f3c85a8935cc4da39de8f929106819d0",
            "30d33335db2f4c0ab70a94f5251c5e73",
            "f72456dd76bf46ea8700cdfc1b904ff8",
            "71493e42d3954d5f838ccdd5172245d3",
            "cccbbe2a31ae40339eac237c0c2e3efd",
            "8d8b01c2a83e4be6a04821b530b44c7a",
            "981c15b620904d16b9aa61c13fcd43c1",
            "6300de044a9549d2b2a17459697deb0d",
            "3f58a099859747b2aed300cf2c5a4d56",
            "1db7c87ff04a41e99918759e36b757c9",
            "82f271f62a4c4a6f97a5aca3a64f1d90",
            "819997f537a3432c9c4df15436f90f96",
            "10b9406afe8e4ada94c744f125f9a50e",
            "f1e2137d9e1c41f6a23182493261586a",
            "8032b488995c45c3953c1ce7f2aec787",
            "3be66d4f9976449fb73a627dcde25d41",
            "1b748f6c4c3446a2972ade2476dde0ef",
            "5df99ff87ef24e5ab6dcad9d2fcaf3b4",
            "08d0de541bd441c3a17f2485119455f6",
            "47239891232c495ca27329444337ce80",
            "b25ff2f9656f49c4995e81433fe1222b",
            "ef2360902e444bedb684dededb480e47",
            "d30d137458084fa7bf458f7524a74327",
            "77ffdab2612049e9936844ecb1780ad8",
            "fdfca50da59748aaa3a3ec9f7a931bfe",
            "764212033591457ea7fd91356d6e236b"
          ]
        },
        "outputId": "bff2008f-8430-44f1-91c5-07e4c1cb898b"
      },
      "source": [
        "import torch\n",
        "from torchvision import datasets, transforms\n",
        "import torch.nn as nn\n",
        "\n",
        "batch_size = 128  # set, batch_size\n",
        "train_dataset = datasets.MNIST('./data', train=True, download=True,\n",
        "                               transform = transforms.Compose([\n",
        "                                 transforms.ToTensor(),\n",
        "                                 transforms.Normalize((0.1307,), (0.3081,))                              \n",
        "                               ]))\n",
        "test_dataset = datasets.MNIST('./data', train=False, download=True,\n",
        "                                transform = transforms.Compose([\n",
        "                                    transforms.ToTensor(),\n",
        "                                    transforms.Normalize((0.1307,), (0.3081,))\n",
        "                                ]))\n",
        "train_dataset, val_dataset = torch.utils.data.random_split(train_dataset, [50000, 10000])\n",
        "print(len(train_dataset), len(val_dataset), len(test_dataset))\n",
        "\n",
        "train_loader = torch.utils.data.DataLoader(train_dataset, batch_size=batch_size, shuffle=True)\n",
        "val_loader = torch.utils.data.DataLoader(val_dataset, batch_size=batch_size, shuffle=False)\n",
        "test_loader = torch.utils.data.DataLoader(test_dataset, batch_size=128, shuffle=False)"
      ],
      "execution_count": 1,
      "outputs": [
        {
          "output_type": "stream",
          "text": [
            "Downloading http://yann.lecun.com/exdb/mnist/train-images-idx3-ubyte.gz to ./data/MNIST/raw/train-images-idx3-ubyte.gz\n"
          ],
          "name": "stdout"
        },
        {
          "output_type": "display_data",
          "data": {
            "application/vnd.jupyter.widget-view+json": {
              "model_id": "12e9a503be284fd7944ae35ddd6edf7f",
              "version_minor": 0,
              "version_major": 2
            },
            "text/plain": [
              "HBox(children=(FloatProgress(value=1.0, bar_style='info', max=1.0), HTML(value='')))"
            ]
          },
          "metadata": {
            "tags": []
          }
        },
        {
          "output_type": "stream",
          "text": [
            "Extracting ./data/MNIST/raw/train-images-idx3-ubyte.gz to ./data/MNIST/raw\n",
            "Downloading http://yann.lecun.com/exdb/mnist/train-labels-idx1-ubyte.gz to ./data/MNIST/raw/train-labels-idx1-ubyte.gz\n"
          ],
          "name": "stdout"
        },
        {
          "output_type": "display_data",
          "data": {
            "application/vnd.jupyter.widget-view+json": {
              "model_id": "f72456dd76bf46ea8700cdfc1b904ff8",
              "version_minor": 0,
              "version_major": 2
            },
            "text/plain": [
              "HBox(children=(FloatProgress(value=1.0, bar_style='info', max=1.0), HTML(value='')))"
            ]
          },
          "metadata": {
            "tags": []
          }
        },
        {
          "output_type": "stream",
          "text": [
            "Extracting ./data/MNIST/raw/train-labels-idx1-ubyte.gz to ./data/MNIST/raw\n",
            "Downloading http://yann.lecun.com/exdb/mnist/t10k-images-idx3-ubyte.gz to ./data/MNIST/raw/t10k-images-idx3-ubyte.gz\n"
          ],
          "name": "stdout"
        },
        {
          "output_type": "display_data",
          "data": {
            "application/vnd.jupyter.widget-view+json": {
              "model_id": "82f271f62a4c4a6f97a5aca3a64f1d90",
              "version_minor": 0,
              "version_major": 2
            },
            "text/plain": [
              "HBox(children=(FloatProgress(value=1.0, bar_style='info', max=1.0), HTML(value='')))"
            ]
          },
          "metadata": {
            "tags": []
          }
        },
        {
          "output_type": "stream",
          "text": [
            "Extracting ./data/MNIST/raw/t10k-images-idx3-ubyte.gz to ./data/MNIST/raw\n",
            "Downloading http://yann.lecun.com/exdb/mnist/t10k-labels-idx1-ubyte.gz to ./data/MNIST/raw/t10k-labels-idx1-ubyte.gz\n",
            "\n",
            "\n"
          ],
          "name": "stdout"
        },
        {
          "output_type": "display_data",
          "data": {
            "application/vnd.jupyter.widget-view+json": {
              "model_id": "08d0de541bd441c3a17f2485119455f6",
              "version_minor": 0,
              "version_major": 2
            },
            "text/plain": [
              "HBox(children=(FloatProgress(value=1.0, bar_style='info', max=1.0), HTML(value='')))"
            ]
          },
          "metadata": {
            "tags": []
          }
        },
        {
          "output_type": "stream",
          "text": [
            "Extracting ./data/MNIST/raw/t10k-labels-idx1-ubyte.gz to ./data/MNIST/raw\n",
            "Processing...\n"
          ],
          "name": "stdout"
        },
        {
          "output_type": "stream",
          "text": [
            "/usr/local/lib/python3.6/dist-packages/torchvision/datasets/mnist.py:469: UserWarning: The given NumPy array is not writeable, and PyTorch does not support non-writeable tensors. This means you can write to the underlying (supposedly non-writeable) NumPy array using the tensor. You may want to copy the array to protect its data or make it writeable before converting it to a tensor. This type of warning will be suppressed for the rest of this program. (Triggered internally at  /pytorch/torch/csrc/utils/tensor_numpy.cpp:141.)\n",
            "  return torch.from_numpy(parsed.astype(m[2], copy=False)).view(*s)\n"
          ],
          "name": "stderr"
        },
        {
          "output_type": "stream",
          "text": [
            "Done!\n",
            "50000 10000 10000\n",
            "\n"
          ],
          "name": "stdout"
        }
      ]
    },
    {
      "cell_type": "markdown",
      "metadata": {
        "id": "EjePj3ThDtEV",
        "colab_type": "text"
      },
      "source": [
        "### Inspecting Dataset"
      ]
    },
    {
      "cell_type": "code",
      "metadata": {
        "id": "at4PLq8JDtEV",
        "colab_type": "code",
        "colab": {
          "base_uri": "https://localhost:8080/",
          "height": 657
        },
        "outputId": "0debb614-b362-4d90-b38b-c6059533bea6"
      },
      "source": [
        "# Inspecting Dataset\n",
        "examples = enumerate(train_loader)\n",
        "batch_idx, (example_data, example_targets) = next(examples)\n",
        "\n",
        "import matplotlib.pyplot as plt\n",
        "\n",
        "fig = plt.figure(figsize=(15, 9))\n",
        "for i in range(6):\n",
        "    plt.subplot(2, 3, i+1)\n",
        "    plt.tight_layout()\n",
        "    plt.imshow(example_data[i][0], cmap='gray', interpolation='none')\n",
        "    plt.title(\"Ground Truth: {}\".format(example_targets[i]))\n",
        "plt.show()"
      ],
      "execution_count": 2,
      "outputs": [
        {
          "output_type": "display_data",
          "data": {
            "image/png": "[encoded data removed]",
            "text/plain": [
              "<Figure size 1080x648 with 6 Axes>"
            ]
          },
          "metadata": {
            "tags": [],
            "needs_background": "light"
          }
        }
      ]
    },
    {
      "cell_type": "markdown",
      "metadata": {
        "colab_type": "text",
        "id": "lEqtbTROlXuB"
      },
      "source": [
        "### 2. Model Architecture"
      ]
    },
    {
      "cell_type": "code",
      "metadata": {
        "colab_type": "code",
        "id": "40ht43Q1JpYI",
        "colab": {}
      },
      "source": [
        "class LinearModel(nn.Module):\n",
        "    def __init__(self): \n",
        "        super(LinearModel, self).__init__()\n",
        "        self.linear = nn.Linear(in_features=784, out_features=10, bias=True)\n",
        "    \n",
        "    def forward(self, x):\n",
        "        x = self.linear(x)\n",
        "        return x\n",
        "\n",
        "'''\n",
        "Model을 생성하고 올바르게 Loss Function을 활용하는 코드를 작성하는데 집중해보자...!!!\n",
        "MLPModel 생성시 hidden unit수와 hidden layer수를 인풋으로 넣어주면 해당 값으로 MLP가 자동으로 생성되게 하는 코드를 구현해보자\n",
        "다양한 hidden_unit과 hidden layer 그리고 learning rate를 바꿔가면서 정확한 변화를 계산해보자\n",
        "'''\n",
        "\n",
        "\n",
        "class MLPModel(nn.Module):\n",
        "    def __init__(self):\n",
        "        super(MLPModel, self).__init__()\n",
        "        self.linear1 = nn.Linear(in_features=28*28, out_features=2000, bias=True)\n",
        "        self.linear2 = nn.Linear(in_features=2000, out_features=1000, bias=True)\n",
        "        self.linear3 = nn.Linear(in_features=1000, out_features=200, bias=True)\n",
        "        self.linear4 = nn.Linear(in_features=200, out_features=10, bias=True)\n",
        "        self.relu = nn.ReLU()\n",
        "\n",
        "    def forward(self, x):\n",
        "        x = self.linear1(x)\n",
        "        x = self.relu(x)\n",
        "        x = self.linear2(x)\n",
        "        x = self.relu(x)\n",
        "        x = self.linear3(x)\n",
        "        x = self.relu(x)\n",
        "        x = self.linear4(x)\n",
        "        x = self.relu(x)\n",
        "        return x\n"
      ],
      "execution_count": 19,
      "outputs": []
    },
    {
      "cell_type": "markdown",
      "metadata": {
        "colab_type": "text",
        "id": "FgdSvskSotgI"
      },
      "source": [
        "### 3. Cost Function Define (Loss Function Define)  "
      ]
    },
    {
      "cell_type": "code",
      "metadata": {
        "colab_type": "code",
        "id": "yzNkZ_uwnufC",
        "colab": {}
      },
      "source": [
        "cls_loss = nn.CrossEntropyLoss()"
      ],
      "execution_count": 4,
      "outputs": []
    },
    {
      "cell_type": "markdown",
      "metadata": {
        "id": "wYgI6BTYDtEh",
        "colab_type": "text"
      },
      "source": [
        "### 4. Train & Evaluation"
      ]
    },
    {
      "cell_type": "code",
      "metadata": {
        "scrolled": false,
        "id": "pOBlvo69DtEh",
        "colab_type": "code",
        "colab": {
          "base_uri": "https://localhost:8080/",
          "height": 553
        },
        "outputId": "18af1478-43a8-4915-89e6-7cc76fe84975"
      },
      "source": [
        "import torch.optim as optim\n",
        "from sklearn.metrics import accuracy_score\n",
        "\n",
        "# ====== Construct Model ====== #\n",
        "model = LinearModel()\n",
        "print('Number of {} parameters'.format(sum(p.numel() for p in model.parameters() if p.requires_grad)))\n",
        "\n",
        "# ===== Construct Optimizer ====== #\n",
        "lr = 0.005 \n",
        "optimizer = optim.SGD(model.parameters(), lr=lr) \n",
        "\n",
        "list_epoch = [] \n",
        "list_train_loss = []\n",
        "list_val_loss = []\n",
        "list_acc = []\n",
        "list_acc_epoch = []\n",
        "\n",
        "epoch = 30\n",
        "for i in range(epoch):\n",
        "    \n",
        "    # ====== Train ====== #\n",
        "    train_loss = 0\n",
        "    model.train() \n",
        "    optimizer.zero_grad() \n",
        "    \n",
        "    for input_X, true_y in train_loader:\n",
        "        ## Check-point ##\n",
        "        # print(input_X.shape)\n",
        "        input_X = input_X.squeeze()\n",
        "        # print(input_X.shape)\n",
        "        input_X = input_X.view(-1, 784)\n",
        "        # print(input_X.shape)\n",
        "        pred_y = model(input_X)\n",
        "        loss = cls_loss(pred_y.squeeze(), true_y)\n",
        "        loss.backward() \n",
        "        optimizer.step() \n",
        "        train_loss += loss.detach().numpy()\n",
        "    train_loss = train_loss / len(train_loader)\n",
        "    list_train_loss.append(train_loss)\n",
        "    list_epoch.append(i)\n",
        "    \n",
        "    \n",
        "    # ====== Validation ====== #\n",
        "    val_loss = 0\n",
        "    model.eval()\n",
        "    optimizer.zero_grad()\n",
        "    \n",
        "    for input_X, true_y in val_loader:\n",
        "        input_X = input_X.squeeze()\n",
        "        input_X = input_X.view(-1, 784)\n",
        "        pred_y = model(input_X)\n",
        "\n",
        "        loss = cls_loss(pred_y.squeeze(), true_y)\n",
        "        val_loss += loss.detach().numpy()\n",
        "    val_loss = val_loss / len(val_loader)\n",
        "    list_val_loss.append(val_loss)\n",
        "\n",
        "\n",
        "    # ====== Evaluation ======= #\n",
        "    correct = 0\n",
        "    model.eval()\n",
        "    optimizer.zero_grad()\n",
        "\n",
        "    for input_X, true_y in test_loader:\n",
        "        input_X = input_X.squeeze()  # [batch_num, 1, 28, 28] to [batch_num, 28, 28]\n",
        "        input_X = input_X.view(-1, 784)\n",
        "        pred_y = model(input_X).max(1, keepdim=True)[1].squeeze()\n",
        "        correct += pred_y.eq(true_y).sum()\n",
        "\n",
        "    acc = correct.numpy() / len(test_loader.dataset)\n",
        "    list_acc.append(acc)\n",
        "    list_acc_epoch.append(i)\n",
        "    \n",
        "    print('Epoch: {}, Train Loss: {}, Val Loss: {}, Test Acc: {}%'.format(i, train_loss, val_loss, acc*100))"
      ],
      "execution_count": 14,
      "outputs": [
        {
          "output_type": "stream",
          "text": [
            "Number of 7850 parameters\n",
            "Epoch: 0, Train Loss: 1.5461642643069977, Val Loss: 2.27874681843987, Test Acc: 89.60000000000001%\n",
            "Epoch: 1, Train Loss: 1.7259506050811704, Val Loss: 1.6958107729501362, Test Acc: 87.03999999999999%\n",
            "Epoch: 2, Train Loss: 1.4030278565557412, Val Loss: 1.8487062937096705, Test Acc: 88.21%\n",
            "Epoch: 3, Train Loss: 1.3855600013299976, Val Loss: 1.8676158936717842, Test Acc: 84.56%\n",
            "Epoch: 4, Train Loss: 1.3781946870448338, Val Loss: 1.814736168595809, Test Acc: 87.85%\n",
            "Epoch: 5, Train Loss: 1.396442260659869, Val Loss: 1.8307621380950831, Test Acc: 85.83%\n",
            "Epoch: 6, Train Loss: 1.4068496807685593, Val Loss: 2.1369624658475947, Test Acc: 86.03%\n",
            "Epoch: 7, Train Loss: 1.4866943088029048, Val Loss: 2.0515757897232154, Test Acc: 86.15%\n",
            "Epoch: 8, Train Loss: 1.4966957542445043, Val Loss: 2.344754483126387, Test Acc: 85.82%\n",
            "Epoch: 9, Train Loss: 1.5928056070109462, Val Loss: 2.507942450197437, Test Acc: 85.02%\n",
            "Epoch: 10, Train Loss: 1.815438312871377, Val Loss: 2.808568260337733, Test Acc: 85.83%\n",
            "Epoch: 11, Train Loss: 1.9044340331002574, Val Loss: 2.5915592395806613, Test Acc: 86.98%\n",
            "Epoch: 12, Train Loss: 1.7012572651324065, Val Loss: 2.2667904813078383, Test Acc: 86.71%\n",
            "Epoch: 13, Train Loss: 1.5768589311091186, Val Loss: 2.307815627961219, Test Acc: 87.52%\n",
            "Epoch: 14, Train Loss: 1.6123066680586857, Val Loss: 2.3464366084412682, Test Acc: 87.5%\n",
            "Epoch: 15, Train Loss: 1.7419140915222027, Val Loss: 2.760159056397933, Test Acc: 85.94000000000001%\n",
            "Epoch: 16, Train Loss: 1.8931463748750175, Val Loss: 2.8769876685323594, Test Acc: 86.03%\n",
            "Epoch: 17, Train Loss: 1.784638161778145, Val Loss: 2.5708940104593205, Test Acc: 87.03999999999999%\n",
            "Epoch: 18, Train Loss: 1.6441631419274507, Val Loss: 2.3270752807206745, Test Acc: 86.9%\n",
            "Epoch: 19, Train Loss: 1.604448853322612, Val Loss: 2.5923346009435533, Test Acc: 86.3%\n",
            "Epoch: 20, Train Loss: 1.7864249620748602, Val Loss: 3.0655515073220942, Test Acc: 84.77%\n",
            "Epoch: 21, Train Loss: 1.880960257309477, Val Loss: 2.8044898449620113, Test Acc: 86.14%\n",
            "Epoch: 22, Train Loss: 1.7776074532200308, Val Loss: 2.808993360664271, Test Acc: 85.13%\n",
            "Epoch: 23, Train Loss: 1.7908440323741845, Val Loss: 2.7253765531733065, Test Acc: 87.33999999999999%\n",
            "Epoch: 24, Train Loss: 1.902497722898298, Val Loss: 2.614331517792955, Test Acc: 86.79%\n",
            "Epoch: 25, Train Loss: 1.807041047326744, Val Loss: 2.929199071624611, Test Acc: 87.49%\n",
            "Epoch: 26, Train Loss: 1.9075797435725133, Val Loss: 2.489006744155401, Test Acc: 87.99%\n",
            "Epoch: 27, Train Loss: 1.7809682845154686, Val Loss: 3.0906908874270282, Test Acc: 85.61%\n",
            "Epoch: 28, Train Loss: 1.7997817783556935, Val Loss: 2.8184448359887813, Test Acc: 87.61%\n",
            "Epoch: 29, Train Loss: 1.8183497378740774, Val Loss: 2.7385139680361448, Test Acc: 86.68%\n"
          ],
          "name": "stdout"
        }
      ]
    },
    {
      "cell_type": "markdown",
      "metadata": {
        "id": "EHQBK8ZlDtEk",
        "colab_type": "text"
      },
      "source": [
        "### 5. Report Experiment  \n",
        "학습 과정에서 기록했던 train_loss와 val_loss를 그려봅시다.   \n",
        "Loss가 꾸준히 줄어드는지 확인하고 val_loss가 증가하기 시킨다면 그 이상의 학습은 점점 모델의 성능을 망침을 뜻합니다. \n",
        "그 옆에는 Epoch에 따라서 MAE metric이 얼마나 감소하는지 확인해봅시다."
      ]
    },
    {
      "cell_type": "code",
      "metadata": {
        "scrolled": true,
        "id": "0E7TIgKzDtEl",
        "colab_type": "code",
        "colab": {
          "base_uri": "https://localhost:8080/",
          "height": 350
        },
        "outputId": "fc986883-b10c-4a56-9a8c-faf230031c20"
      },
      "source": [
        "fig = plt.figure(figsize=(15,5))\n",
        "\n",
        "# ====== Loss Fluctuation ====== #\n",
        "ax1 = fig.add_subplot(1, 2, 1)\n",
        "ax1.plot(list_epoch, list_train_loss, label='train_loss')\n",
        "ax1.plot(list_epoch, list_val_loss, '--', label='val_loss')\n",
        "ax1.set_xlabel('epoch')\n",
        "ax1.set_ylabel('loss')\n",
        "ax1.grid()\n",
        "ax1.legend()\n",
        "ax1.set_title('epoch vs loss')\n",
        "\n",
        "# ====== Metric Fluctuation ====== #\n",
        "ax2 = fig.add_subplot(1, 2, 2)\n",
        "ax2.plot(list_acc_epoch, list_acc, marker='x', label='Accuracy metric')\n",
        "ax2.set_xlabel('epoch')\n",
        "ax2.set_ylabel('Acc')\n",
        "ax2.grid()\n",
        "ax2.legend()\n",
        "ax2.set_title('epoch vs Accuracy')\n",
        "\n",
        "plt.show()"
      ],
      "execution_count": 15,
      "outputs": [
        {
          "output_type": "display_data",
          "data": {
            "image/png": "[encoded data removed]",
            "text/plain": [
              "<Figure size 1080x360 with 2 Axes>"
            ]
          },
          "metadata": {
            "tags": [],
            "needs_background": "light"
          }
        }
      ]
    },
    {
      "cell_type": "markdown",
      "metadata": {
        "id": "d_MmVLM_hnGK",
        "colab_type": "text"
      },
      "source": [
        "# Assignment Test\n",
        "* myself-MLPModel Test!\n"
      ]
    },
    {
      "cell_type": "code",
      "metadata": {
        "id": "W6sZG8iah-LF",
        "colab_type": "code",
        "colab": {
          "base_uri": "https://localhost:8080/",
          "height": 553
        },
        "outputId": "36e590df-fdde-4d52-b7b3-de0ee09bdd01"
      },
      "source": [
        "import torch.optim as optim\n",
        "from sklearn.metrics import accuracy_score\n",
        "\n",
        "# ====== Construct Model ====== #\n",
        "model = MLPModel()\n",
        "print('Number of {} parameters'.format(sum(p.numel() for p in model.parameters() if p.requires_grad)))\n",
        "\n",
        "# ===== Construct Optimizer ====== #\n",
        "lr = 0.005 \n",
        "optimizer = optim.SGD(model.parameters(), lr=lr) \n",
        "\n",
        "list_epoch = [] \n",
        "list_train_loss = []\n",
        "list_val_loss = []\n",
        "list_acc = []\n",
        "list_acc_epoch = []\n",
        "\n",
        "epoch = 30\n",
        "for i in range(epoch):\n",
        "    \n",
        "    # ====== Train ====== #\n",
        "    train_loss = 0\n",
        "    model.train() \n",
        "    optimizer.zero_grad() \n",
        "    \n",
        "    for input_X, true_y in train_loader:\n",
        "        ## Check-point ##\n",
        "        # print(input_X.shape)\n",
        "        input_X = input_X.squeeze()\n",
        "        # print(input_X.shape)\n",
        "        input_X = input_X.view(-1, 784)\n",
        "        # print(input_X.shape)\n",
        "        pred_y = model(input_X)\n",
        "        loss = cls_loss(pred_y.squeeze(), true_y)\n",
        "        loss.backward() \n",
        "        optimizer.step() \n",
        "        train_loss += loss.detach().numpy()\n",
        "    train_loss = train_loss / len(train_loader)\n",
        "    list_train_loss.append(train_loss)\n",
        "    list_epoch.append(i)\n",
        "    \n",
        "    \n",
        "    # ====== Validation ====== #\n",
        "    val_loss = 0\n",
        "    model.eval()\n",
        "    optimizer.zero_grad()\n",
        "    \n",
        "    for input_X, true_y in val_loader:\n",
        "        input_X = input_X.squeeze()\n",
        "        input_X = input_X.view(-1, 784)\n",
        "        pred_y = model(input_X)\n",
        "\n",
        "        loss = cls_loss(pred_y.squeeze(), true_y)\n",
        "        val_loss += loss.detach().numpy()\n",
        "    val_loss = val_loss / len(val_loader)\n",
        "    list_val_loss.append(val_loss)\n",
        "\n",
        "\n",
        "    # ====== Evaluation ======= #\n",
        "    correct = 0\n",
        "    model.eval()\n",
        "    optimizer.zero_grad()\n",
        "\n",
        "    for input_X, true_y in test_loader:\n",
        "        input_X = input_X.squeeze()  # [batch_num, 1, 28, 28] to [batch_num, 28, 28]\n",
        "        input_X = input_X.view(-1, 784)\n",
        "        pred_y = model(input_X).max(1, keepdim=True)[1].squeeze()\n",
        "        correct += pred_y.eq(true_y).sum()\n",
        "\n",
        "    acc = correct.numpy() / len(test_loader.dataset)\n",
        "    list_acc.append(acc)\n",
        "    list_acc_epoch.append(i)\n",
        "    \n",
        "    print('Epoch: {}, Train Loss: {}, Val Loss: {}, Test Acc: {}%'.format(i, train_loss, val_loss, acc*100))"
      ],
      "execution_count": 20,
      "outputs": [
        {
          "output_type": "stream",
          "text": [
            "Number of 3773210 parameters\n",
            "Epoch: 0, Train Loss: 1.523658875614176, Val Loss: 1.3892383183105081, Test Acc: 59.88%\n",
            "Epoch: 1, Train Loss: 1.163133372431216, Val Loss: 1.0705229021325897, Test Acc: 72.43%\n",
            "Epoch: 2, Train Loss: 0.9059326834690845, Val Loss: 0.7054339405856555, Test Acc: 84.34%\n",
            "Epoch: 3, Train Loss: 0.5295618918850599, Val Loss: 0.5615605810020543, Test Acc: 91.5%\n",
            "Epoch: 4, Train Loss: 0.46920419779732403, Val Loss: 0.5548017945470689, Test Acc: 93.34%\n",
            "Epoch: 5, Train Loss: 0.43877110898952043, Val Loss: 0.49971737024150314, Test Acc: 93.46%\n",
            "Epoch: 6, Train Loss: 0.41151479096211435, Val Loss: 0.48696688666373866, Test Acc: 94.54%\n",
            "Epoch: 7, Train Loss: 0.39563510500256666, Val Loss: 0.462433778786961, Test Acc: 94.03%\n",
            "Epoch: 8, Train Loss: 0.3761031140223184, Val Loss: 0.4439917250147349, Test Acc: 94.89%\n",
            "Epoch: 9, Train Loss: 0.36907989918575873, Val Loss: 0.45673206957835183, Test Acc: 94.89%\n",
            "Epoch: 10, Train Loss: 0.35830905694333487, Val Loss: 0.4641657862104947, Test Acc: 94.06%\n",
            "Epoch: 11, Train Loss: 0.35185057618428983, Val Loss: 0.4433755048468143, Test Acc: 95.54%\n",
            "Epoch: 12, Train Loss: 0.3248844749825385, Val Loss: 0.40594973990434335, Test Acc: 96.25%\n",
            "Epoch: 13, Train Loss: 0.3262550977375501, Val Loss: 0.4837536838235734, Test Acc: 96.22%\n",
            "Epoch: 14, Train Loss: 0.3412817030992654, Val Loss: 0.4474562346180783, Test Acc: 95.66%\n",
            "Epoch: 15, Train Loss: 0.3457575847997385, Val Loss: 0.49425097696388826, Test Acc: 95.14%\n",
            "Epoch: 16, Train Loss: 0.3331157889436273, Val Loss: 0.45712638618070867, Test Acc: 95.1%\n",
            "Epoch: 17, Train Loss: 0.333004112781771, Val Loss: 0.49118218750138826, Test Acc: 95.7%\n",
            "Epoch: 18, Train Loss: 0.3414123345861959, Val Loss: 0.525208913638622, Test Acc: 95.56%\n",
            "Epoch: 19, Train Loss: 0.3399942465450453, Val Loss: 0.47801338400267346, Test Acc: 95.75%\n",
            "Epoch: 20, Train Loss: 0.35018091248658, Val Loss: 0.4921150305603124, Test Acc: 95.19%\n",
            "Epoch: 21, Train Loss: 0.34611954056012356, Val Loss: 0.489969741128668, Test Acc: 95.5%\n",
            "Epoch: 22, Train Loss: 0.33623178554770283, Val Loss: 0.4664755478689942, Test Acc: 96.09%\n",
            "Epoch: 23, Train Loss: 0.3270541564620974, Val Loss: 0.47424795374840123, Test Acc: 96.33%\n",
            "Epoch: 24, Train Loss: 0.3242034809211331, Val Loss: 0.46330494820317136, Test Acc: 95.93%\n",
            "Epoch: 25, Train Loss: 0.32626288064071896, Val Loss: 0.4981459699854066, Test Acc: 95.32000000000001%\n",
            "Epoch: 26, Train Loss: 0.315562018843563, Val Loss: 0.5141743017902857, Test Acc: 95.74000000000001%\n",
            "Epoch: 27, Train Loss: 0.3311411492964801, Val Loss: 0.4914392864779581, Test Acc: 95.3%\n",
            "Epoch: 28, Train Loss: 0.34200552734725004, Val Loss: 0.5423940525779242, Test Acc: 95.39%\n",
            "Epoch: 29, Train Loss: 0.3257982946570267, Val Loss: 0.5731208562096463, Test Acc: 96.17%\n"
          ],
          "name": "stdout"
        }
      ]
    },
    {
      "cell_type": "code",
      "metadata": {
        "id": "LovKdGlugVnu",
        "colab_type": "code",
        "colab": {
          "base_uri": "https://localhost:8080/",
          "height": 350
        },
        "outputId": "fa02801c-4239-4c28-b2ca-0fb3a231672b"
      },
      "source": [
        "fig = plt.figure(figsize=(15,5))\n",
        "\n",
        "# ====== Loss Fluctuation ====== #\n",
        "ax1 = fig.add_subplot(1, 2, 1)\n",
        "ax1.plot(list_epoch, list_train_loss, label='train_loss')\n",
        "ax1.plot(list_epoch, list_val_loss, '--', label='val_loss')\n",
        "ax1.set_xlabel('epoch')\n",
        "ax1.set_ylabel('loss')\n",
        "ax1.grid()\n",
        "ax1.legend()\n",
        "ax1.set_title('epoch vs loss')\n",
        "\n",
        "# ====== Metric Fluctuation ====== #\n",
        "ax2 = fig.add_subplot(1, 2, 2)\n",
        "ax2.plot(list_acc_epoch, list_acc, marker='x', label='Accuracy metric')\n",
        "ax2.set_xlabel('epoch')\n",
        "ax2.set_ylabel('Acc')\n",
        "ax2.grid()\n",
        "ax2.legend()\n",
        "ax2.set_title('epoch vs Accuracy')\n",
        "\n",
        "plt.show()"
      ],
      "execution_count": 21,
      "outputs": [
        {
          "output_type": "display_data",
          "data": {
            "image/png": "[encoded data removed]",
            "text/plain": [
              "<Figure size 1080x360 with 2 Axes>"
            ]
          },
          "metadata": {
            "tags": [],
            "needs_background": "light"
          }
        }
      ]
    },
    {
      "cell_type": "markdown",
      "metadata": {
        "id": "jbMRSuxWi27B",
        "colab_type": "text"
      },
      "source": [
        "## Change Optim\n",
        "* Change Optimizer\n",
        "    * SGD to Adam\n",
        "    * Change learning rate?"
      ]
    },
    {
      "cell_type": "code",
      "metadata": {
        "id": "XjN5TvyAilyt",
        "colab_type": "code",
        "colab": {
          "base_uri": "https://localhost:8080/",
          "height": 501
        },
        "outputId": "c09d3cbd-36be-401b-949f-e94d3004c16d"
      },
      "source": [
        "import torch.optim as optim\n",
        "from sklearn.metrics import accuracy_score\n",
        "\n",
        "# ====== Construct Model ====== #\n",
        "model = MLPModel()\n",
        "print('Number of {} parameters'.format(sum(p.numel() for p in model.parameters() if p.requires_grad)))\n",
        "\n",
        "# ===== Construct Optimizer ====== #\n",
        "lr = 0.005 \n",
        "optimizer = optim.Adam(model.parameters(), lr=lr) \n",
        "\n",
        "list_epoch = [] \n",
        "list_train_loss = []\n",
        "list_val_loss = []\n",
        "list_acc = []\n",
        "list_acc_epoch = []\n",
        "\n",
        "epoch = 30\n",
        "for i in range(epoch):\n",
        "    \n",
        "    # ====== Train ====== #\n",
        "    train_loss = 0\n",
        "    model.train() \n",
        "    optimizer.zero_grad() \n",
        "    \n",
        "    for input_X, true_y in train_loader:\n",
        "        ## Check-point ##\n",
        "        # print(input_X.shape)\n",
        "        input_X = input_X.squeeze()\n",
        "        # print(input_X.shape)\n",
        "        input_X = input_X.view(-1, 784)\n",
        "        # print(input_X.shape)\n",
        "        pred_y = model(input_X)\n",
        "        loss = cls_loss(pred_y.squeeze(), true_y)\n",
        "        loss.backward() \n",
        "        optimizer.step() \n",
        "        train_loss += loss.detach().numpy()\n",
        "    train_loss = train_loss / len(train_loader)\n",
        "    list_train_loss.append(train_loss)\n",
        "    list_epoch.append(i)\n",
        "    \n",
        "    \n",
        "    # ====== Validation ====== #\n",
        "    val_loss = 0\n",
        "    model.eval()\n",
        "    optimizer.zero_grad()\n",
        "    \n",
        "    for input_X, true_y in val_loader:\n",
        "        input_X = input_X.squeeze()\n",
        "        input_X = input_X.view(-1, 784)\n",
        "        pred_y = model(input_X)\n",
        "\n",
        "        loss = cls_loss(pred_y.squeeze(), true_y)\n",
        "        val_loss += loss.detach().numpy()\n",
        "    val_loss = val_loss / len(val_loader)\n",
        "    list_val_loss.append(val_loss)\n",
        "\n",
        "\n",
        "    # ====== Evaluation ======= #\n",
        "    correct = 0\n",
        "    model.eval()\n",
        "    optimizer.zero_grad()\n",
        "\n",
        "    for input_X, true_y in test_loader:\n",
        "        input_X = input_X.squeeze()  # [batch_num, 1, 28, 28] to [batch_num, 28, 28]\n",
        "        input_X = input_X.view(-1, 784)\n",
        "        pred_y = model(input_X).max(1, keepdim=True)[1].squeeze()\n",
        "        correct += pred_y.eq(true_y).sum()\n",
        "\n",
        "    acc = correct.numpy() / len(test_loader.dataset)\n",
        "    list_acc.append(acc)\n",
        "    list_acc_epoch.append(i)\n",
        "    \n",
        "    print('Epoch: {}, Train Loss: {}, Val Loss: {}, Test Acc: {}%'.format(i, train_loss, val_loss, acc*100))"
      ],
      "execution_count": 23,
      "outputs": [
        {
          "output_type": "stream",
          "text": [
            "Number of 3773210 parameters\n",
            "Epoch: 0, Train Loss: 2.3077281838487784, Val Loss: 2.3025827739812152, Test Acc: 9.8%\n",
            "Epoch: 1, Train Loss: 2.302582742003224, Val Loss: 2.3025827739812152, Test Acc: 9.8%\n",
            "Epoch: 2, Train Loss: 2.302582742003224, Val Loss: 2.3025827739812152, Test Acc: 9.8%\n",
            "Epoch: 3, Train Loss: 2.302582742003224, Val Loss: 2.3025827739812152, Test Acc: 9.8%\n",
            "Epoch: 4, Train Loss: 2.302582742003224, Val Loss: 2.3025827739812152, Test Acc: 9.8%\n",
            "Epoch: 5, Train Loss: 2.302582742003224, Val Loss: 2.3025827739812152, Test Acc: 9.8%\n"
          ],
          "name": "stdout"
        },
        {
          "output_type": "error",
          "ename": "KeyboardInterrupt",
          "evalue": "ignored",
          "traceback": [
            "\u001b[0;31m---------------------------------------------------------------------------\u001b[0m",
            "\u001b[0;31mKeyboardInterrupt\u001b[0m                         Traceback (most recent call last)",
            "\u001b[0;32m<ipython-input-23-22a030b47fdb>\u001b[0m in \u001b[0;36m<module>\u001b[0;34m()\u001b[0m\n\u001b[1;32m     34\u001b[0m         \u001b[0mloss\u001b[0m \u001b[0;34m=\u001b[0m \u001b[0mcls_loss\u001b[0m\u001b[0;34m(\u001b[0m\u001b[0mpred_y\u001b[0m\u001b[0;34m.\u001b[0m\u001b[0msqueeze\u001b[0m\u001b[0;34m(\u001b[0m\u001b[0;34m)\u001b[0m\u001b[0;34m,\u001b[0m \u001b[0mtrue_y\u001b[0m\u001b[0;34m)\u001b[0m\u001b[0;34m\u001b[0m\u001b[0;34m\u001b[0m\u001b[0m\n\u001b[1;32m     35\u001b[0m         \u001b[0mloss\u001b[0m\u001b[0;34m.\u001b[0m\u001b[0mbackward\u001b[0m\u001b[0;34m(\u001b[0m\u001b[0;34m)\u001b[0m\u001b[0;34m\u001b[0m\u001b[0;34m\u001b[0m\u001b[0m\n\u001b[0;32m---> 36\u001b[0;31m         \u001b[0moptimizer\u001b[0m\u001b[0;34m.\u001b[0m\u001b[0mstep\u001b[0m\u001b[0;34m(\u001b[0m\u001b[0;34m)\u001b[0m\u001b[0;34m\u001b[0m\u001b[0;34m\u001b[0m\u001b[0m\n\u001b[0m\u001b[1;32m     37\u001b[0m         \u001b[0mtrain_loss\u001b[0m \u001b[0;34m+=\u001b[0m \u001b[0mloss\u001b[0m\u001b[0;34m.\u001b[0m\u001b[0mdetach\u001b[0m\u001b[0;34m(\u001b[0m\u001b[0;34m)\u001b[0m\u001b[0;34m.\u001b[0m\u001b[0mnumpy\u001b[0m\u001b[0;34m(\u001b[0m\u001b[0;34m)\u001b[0m\u001b[0;34m\u001b[0m\u001b[0;34m\u001b[0m\u001b[0m\n\u001b[1;32m     38\u001b[0m     \u001b[0mtrain_loss\u001b[0m \u001b[0;34m=\u001b[0m \u001b[0mtrain_loss\u001b[0m \u001b[0;34m/\u001b[0m \u001b[0mlen\u001b[0m\u001b[0;34m(\u001b[0m\u001b[0mtrain_loader\u001b[0m\u001b[0;34m)\u001b[0m\u001b[0;34m\u001b[0m\u001b[0;34m\u001b[0m\u001b[0m\n",
            "\u001b[0;32m/usr/local/lib/python3.6/dist-packages/torch/autograd/grad_mode.py\u001b[0m in \u001b[0;36mdecorate_context\u001b[0;34m(*args, **kwargs)\u001b[0m\n\u001b[1;32m     13\u001b[0m         \u001b[0;32mdef\u001b[0m \u001b[0mdecorate_context\u001b[0m\u001b[0;34m(\u001b[0m\u001b[0;34m*\u001b[0m\u001b[0margs\u001b[0m\u001b[0;34m,\u001b[0m \u001b[0;34m**\u001b[0m\u001b[0mkwargs\u001b[0m\u001b[0;34m)\u001b[0m\u001b[0;34m:\u001b[0m\u001b[0;34m\u001b[0m\u001b[0;34m\u001b[0m\u001b[0m\n\u001b[1;32m     14\u001b[0m             \u001b[0;32mwith\u001b[0m \u001b[0mself\u001b[0m\u001b[0;34m:\u001b[0m\u001b[0;34m\u001b[0m\u001b[0;34m\u001b[0m\u001b[0m\n\u001b[0;32m---> 15\u001b[0;31m                 \u001b[0;32mreturn\u001b[0m \u001b[0mfunc\u001b[0m\u001b[0;34m(\u001b[0m\u001b[0;34m*\u001b[0m\u001b[0margs\u001b[0m\u001b[0;34m,\u001b[0m \u001b[0;34m**\u001b[0m\u001b[0mkwargs\u001b[0m\u001b[0;34m)\u001b[0m\u001b[0;34m\u001b[0m\u001b[0;34m\u001b[0m\u001b[0m\n\u001b[0m\u001b[1;32m     16\u001b[0m         \u001b[0;32mreturn\u001b[0m \u001b[0mdecorate_context\u001b[0m\u001b[0;34m\u001b[0m\u001b[0;34m\u001b[0m\u001b[0m\n\u001b[1;32m     17\u001b[0m \u001b[0;34m\u001b[0m\u001b[0m\n",
            "\u001b[0;32m/usr/local/lib/python3.6/dist-packages/torch/optim/adam.py\u001b[0m in \u001b[0;36mstep\u001b[0;34m(self, closure)\u001b[0m\n\u001b[1;32m    109\u001b[0m                 \u001b[0mstep_size\u001b[0m \u001b[0;34m=\u001b[0m \u001b[0mgroup\u001b[0m\u001b[0;34m[\u001b[0m\u001b[0;34m'lr'\u001b[0m\u001b[0;34m]\u001b[0m \u001b[0;34m/\u001b[0m \u001b[0mbias_correction1\u001b[0m\u001b[0;34m\u001b[0m\u001b[0;34m\u001b[0m\u001b[0m\n\u001b[1;32m    110\u001b[0m \u001b[0;34m\u001b[0m\u001b[0m\n\u001b[0;32m--> 111\u001b[0;31m                 \u001b[0mp\u001b[0m\u001b[0;34m.\u001b[0m\u001b[0maddcdiv_\u001b[0m\u001b[0;34m(\u001b[0m\u001b[0mexp_avg\u001b[0m\u001b[0;34m,\u001b[0m \u001b[0mdenom\u001b[0m\u001b[0;34m,\u001b[0m \u001b[0mvalue\u001b[0m\u001b[0;34m=\u001b[0m\u001b[0;34m-\u001b[0m\u001b[0mstep_size\u001b[0m\u001b[0;34m)\u001b[0m\u001b[0;34m\u001b[0m\u001b[0;34m\u001b[0m\u001b[0m\n\u001b[0m\u001b[1;32m    112\u001b[0m \u001b[0;34m\u001b[0m\u001b[0m\n\u001b[1;32m    113\u001b[0m         \u001b[0;32mreturn\u001b[0m \u001b[0mloss\u001b[0m\u001b[0;34m\u001b[0m\u001b[0;34m\u001b[0m\u001b[0m\n",
            "\u001b[0;31mKeyboardInterrupt\u001b[0m: "
          ]
        }
      ]
    },
    {
      "cell_type": "code",
      "metadata": {
        "id": "yEfjkjNyi_bc",
        "colab_type": "code",
        "colab": {
          "base_uri": "https://localhost:8080/",
          "height": 350
        },
        "outputId": "47113e0a-283c-4965-87c6-53fd75b4fffc"
      },
      "source": [
        "fig = plt.figure(figsize=(15,5))\n",
        "\n",
        "# ====== Loss Fluctuation ====== #\n",
        "ax1 = fig.add_subplot(1, 2, 1)\n",
        "ax1.plot(list_epoch, list_train_loss, label='train_loss')\n",
        "ax1.plot(list_epoch, list_val_loss, '--', label='val_loss')\n",
        "ax1.set_xlabel('epoch')\n",
        "ax1.set_ylabel('loss')\n",
        "ax1.grid()\n",
        "ax1.legend()\n",
        "ax1.set_title('epoch vs loss')\n",
        "\n",
        "# ====== Metric Fluctuation ====== #\n",
        "ax2 = fig.add_subplot(1, 2, 2)\n",
        "ax2.plot(list_acc_epoch, list_acc, marker='x', label='Accuracy metric')\n",
        "ax2.set_xlabel('epoch')\n",
        "ax2.set_ylabel('Acc')\n",
        "ax2.grid()\n",
        "ax2.legend()\n",
        "ax2.set_title('epoch vs Accuracy')\n",
        "\n",
        "plt.show()"
      ],
      "execution_count": 24,
      "outputs": [
        {
          "output_type": "display_data",
          "data": {
            "image/png": "[encoded data removed]",
            "text/plain": [
              "<Figure size 1080x360 with 2 Axes>"
            ]
          },
          "metadata": {
            "tags": [],
            "needs_background": "light"
          }
        }
      ]
    },
    {
      "cell_type": "code",
      "metadata": {
        "id": "S1tQHoZHjBAO",
        "colab_type": "code",
        "colab": {}
      },
      "source": [
        ""
      ],
      "execution_count": null,
      "outputs": []
    }
  ]
}