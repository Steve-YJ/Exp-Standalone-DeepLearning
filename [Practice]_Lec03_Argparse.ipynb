{
  "nbformat": 4,
  "nbformat_minor": 0,
  "metadata": {
    "colab": {
      "name": "[Practice] Lec03. Argparse.ipynb",
      "provenance": [],
      "authorship_tag": "ABX9TyOLoohfC0anaXJe38viNToI",
      "include_colab_link": true
    },
    "kernelspec": {
      "name": "python3",
      "display_name": "Python 3"
    }
  },
  "cells": [
    {
      "cell_type": "markdown",
      "metadata": {
        "id": "view-in-github",
        "colab_type": "text"
      },
      "source": [
        "<a href=\"https://colab.research.google.com/github/Steve-YJ/Exp-Standalone-DeepLearning/blob/master/%5BPractice%5D_Lec03_Argparse.ipynb\" target=\"_parent\"><img src=\"https://colab.research.google.com/assets/colab-badge.svg\" alt=\"Open In Colab\"/></a>"
      ]
    },
    {
      "cell_type": "code",
      "metadata": {
        "id": "Mopy2k8rtR1J",
        "colab_type": "code",
        "colab": {}
      },
      "source": [
        "import argparse"
      ],
      "execution_count": null,
      "outputs": []
    },
    {
      "cell_type": "code",
      "metadata": {
        "id": "81PP2VjqteD4",
        "colab_type": "code",
        "colab": {}
      },
      "source": [
        "parser = argparse.ArgumentParser()\n",
        "args = parser.parse_args(\"\")"
      ],
      "execution_count": 3,
      "outputs": []
    },
    {
      "cell_type": "code",
      "metadata": {
        "id": "_4JPfrzptm2H",
        "colab_type": "code",
        "colab": {
          "base_uri": "https://localhost:8080/",
          "height": 53
        },
        "outputId": "7697a4d6-22c2-41ca-cc14-023f6f6bb65b"
      },
      "source": [
        "args.num_layer = 5\n",
        "print(args)\n",
        "print(args.num_layer)"
      ],
      "execution_count": 5,
      "outputs": [
        {
          "output_type": "stream",
          "text": [
            "Namespace(num_layer=5)\n",
            "5\n"
          ],
          "name": "stdout"
        }
      ]
    },
    {
      "cell_type": "code",
      "metadata": {
        "id": "RpOX-q3ZtsqA",
        "colab_type": "code",
        "colab": {
          "base_uri": "https://localhost:8080/",
          "height": 35
        },
        "outputId": "f083e3b4-6621-4e1f-f3ec-c5e0f0b75d08"
      },
      "source": [
        "print(args) # dictionay 같은 친구 아니야?"
      ],
      "execution_count": 6,
      "outputs": [
        {
          "output_type": "stream",
          "text": [
            "Namespace(num_layer=5)\n"
          ],
          "name": "stdout"
        }
      ]
    },
    {
      "cell_type": "code",
      "metadata": {
        "id": "3wFnM6fxtt9K",
        "colab_type": "code",
        "colab": {
          "base_uri": "https://localhost:8080/",
          "height": 71
        },
        "outputId": "7edc7d54-60de-4c5c-e62a-4adc8f9d1aba"
      },
      "source": [
        "# in_dim = 100을 추가해보자\n",
        "\n",
        "parser = argparse.ArgumentParser()\n",
        "args = parser.parse_args(\"\")\n",
        "\n",
        "args.in_dim = 100\n",
        "print(args)\n",
        "args.num_layer = 5\n",
        "print(args)\n",
        "print(args.num_layer)"
      ],
      "execution_count": 9,
      "outputs": [
        {
          "output_type": "stream",
          "text": [
            "Namespace(in_dim=100)\n",
            "Namespace(in_dim=100, num_layer=5)\n",
            "5\n"
          ],
          "name": "stdout"
        }
      ]
    },
    {
      "cell_type": "code",
      "metadata": {
        "id": "LFtzucQPt5PG",
        "colab_type": "code",
        "colab": {
          "base_uri": "https://localhost:8080/",
          "height": 35
        },
        "outputId": "d5f9492e-89d8-4ebf-b81f-9d7f6dd49149"
      },
      "source": [
        "linears = []\n",
        "for i in range(args.num_layer):\n",
        "    linears.append(i)\n",
        "\n",
        "print(linears)"
      ],
      "execution_count": 11,
      "outputs": [
        {
          "output_type": "stream",
          "text": [
            "[0, 1, 2, 3, 4]\n"
          ],
          "name": "stdout"
        }
      ]
    },
    {
      "cell_type": "markdown",
      "metadata": {
        "id": "kyZ3i9KSuHAH",
        "colab_type": "text"
      },
      "source": [
        "* <code>argparse</code>를 사용해서 hyperparameter를 관리하자...!"
      ]
    },
    {
      "cell_type": "markdown",
      "metadata": {
        "id": "yRhsPwLAu5CX",
        "colab_type": "text"
      },
      "source": [
        "Quick Review"
      ]
    },
    {
      "cell_type": "code",
      "metadata": {
        "id": "v7eaj1Q9vZ8_",
        "colab_type": "code",
        "colab": {
          "base_uri": "https://localhost:8080/",
          "height": 35
        },
        "outputId": "0cdbb66b-ca12-4c4d-9076-389ad7bf6f2b"
      },
      "source": [
        "# Repeat one more time\n",
        "parser = argparse.ArgumentParser()\n",
        "args = parser.parse_args(\"\")\n",
        "\n",
        "# use 'args' like dictionary\n",
        "args.num_layer = 5\n",
        "args.in_dim = 100\n",
        "args.out_dim = 10\n",
        "\n",
        "print(args)"
      ],
      "execution_count": null,
      "outputs": [
        {
          "output_type": "stream",
          "text": [
            "Namespace(in_dim=100, num_layer=5, out_dim=10)\n"
          ],
          "name": "stdout"
        }
      ]
    },
    {
      "cell_type": "code",
      "metadata": {
        "id": "1FX6NxSr_ySy",
        "colab_type": "code",
        "colab": {
          "base_uri": "https://localhost:8080/",
          "height": 35
        },
        "outputId": "06491a58-9bba-4d56-8a25-458af532a1e3"
      },
      "source": [
        "import argparse\n",
        "\n",
        "parser = argparse.ArgumentParser()\n",
        "args = parser.parse_args(\"\")\n",
        "\n",
        "args.num_layer = 100\n",
        "args.in_dim = 100\n",
        "\n",
        "print(args)"
      ],
      "execution_count": null,
      "outputs": [
        {
          "output_type": "stream",
          "text": [
            "Namespace(in_dim=100, num_layer=100)\n"
          ],
          "name": "stdout"
        }
      ]
    },
    {
      "cell_type": "code",
      "metadata": {
        "id": "srYExtw1__9T",
        "colab_type": "code",
        "colab": {}
      },
      "source": [
        "import argparse\n",
        "\n",
        "parser = argparse.ArgumentParser()\n",
        "args = parser.parse_args(\"\")\n",
        "\n",
        "args.num_layer = 5\n",
        "args.in_dim = 100\n",
        "args.out_dim = 100\n",
        "\n",
        "]"
      ],
      "execution_count": null,
      "outputs": []
    },
    {
      "cell_type": "markdown",
      "metadata": {
        "id": "476ZPCmRnZ5v",
        "colab_type": "text"
      },
      "source": [
        "* Review Ended!!- 20.09.07.mon- pm12:10"
      ]
    }
  ]
}